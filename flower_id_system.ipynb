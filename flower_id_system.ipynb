{
  "nbformat": 4,
  "nbformat_minor": 0,
  "metadata": {
    "colab": {
      "name": "flower_id-system.ipynb",
      "provenance": [],
      "collapsed_sections": [],
      "mount_file_id": "1Y5suFQHJG37McHA1k5vPHPOrl3qqIXuK",
      "authorship_tag": "ABX9TyP/ooXLC6TfRZCWHipSbUn2",
      "include_colab_link": true
    },
    "kernelspec": {
      "name": "python3",
      "display_name": "Python 3"
    },
    "accelerator": "GPU"
  },
  "cells": [
    {
      "cell_type": "markdown",
      "metadata": {
        "id": "view-in-github",
        "colab_type": "text"
      },
      "source": [
        "<a href=\"https://colab.research.google.com/github/luifo/IA-image-super-resolution-tensorflow/blob/test/flower_id_system.ipynb\" target=\"_parent\"><img src=\"https://colab.research.google.com/assets/colab-badge.svg\" alt=\"Open In Colab\"/></a>"
      ]
    },
    {
      "cell_type": "code",
      "metadata": {
        "id": "spkzNq7OaXx7"
      },
      "source": [
        ""
      ],
      "execution_count": null,
      "outputs": []
    },
    {
      "cell_type": "code",
      "metadata": {
        "id": "E4mLdWmRkv0r"
      },
      "source": [
        "import tensorflow as tf\r\n",
        "import matplotlib.pyplot as plt\r\n",
        "import numpy as np\r\n",
        "\r\n",
        "# Ruta en googledrive\r\n",
        "PATH = \"/content/drive/MyDrive/102flowers\"\r\n"
      ],
      "execution_count": null,
      "outputs": []
    },
    {
      "cell_type": "markdown",
      "metadata": {
        "id": "JEHamonUeCK5"
      },
      "source": [
        "# New Section"
      ]
    }
  ]
}