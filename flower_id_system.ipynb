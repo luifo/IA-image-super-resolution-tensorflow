{
  "nbformat": 4,
  "nbformat_minor": 0,
  "metadata": {
    "colab": {
      "name": "flower_id-system.ipynb",
      "provenance": [],
      "collapsed_sections": [],
      "toc_visible": true,
      "mount_file_id": "https://gist.github.com/luifo/0531e986720f7f45ce2aaef67405e6cd#file-flower_id-system-ipynb",
      "authorship_tag": "ABX9TyPs6WUhaeRXOkYMll2dK21h",
      "include_colab_link": true
    },
    "kernelspec": {
      "name": "python3",
      "display_name": "Python 3"
    },
    "accelerator": "GPU"
  },
  "cells": [
    {
      "cell_type": "markdown",
      "metadata": {
        "id": "view-in-github",
        "colab_type": "text"
      },
      "source": [
        "<a href=\"https://colab.research.google.com/github/luifo/IA-image-super-resolution-tensorflow/blob/test/flower_id_system.ipynb\" target=\"_parent\"><img src=\"https://colab.research.google.com/assets/colab-badge.svg\" alt=\"Open In Colab\"/></a>"
      ]
    },
    {
      "cell_type": "code",
      "metadata": {
        "id": "spkzNq7OaXx7"
      },
      "source": [
        ""
      ],
      "execution_count": null,
      "outputs": []
    },
    {
      "cell_type": "code",
      "metadata": {
        "id": "E4mLdWmRkv0r",
        "colab": {
          "base_uri": "https://localhost:8080/"
        },
        "outputId": "363a78e2-61db-49d3-98f9-bc11dabb095c"
      },
      "source": [
        "import tensorflow as tf\r\n",
        "import matplotlib.pyplot as plt\r\n",
        "import numpy as np\r\n",
        "\r\n",
        "# Ruta en googledrive\r\n",
        "PATH = \"/content/drive/MyDrive/102flowers\"\r\n",
        "\r\n",
        "# Ruta de datos de entrada\r\n",
        "IN_PATH = PATH + '/jpg001'\r\n",
        "# Ruta de datos de salida\r\n",
        "OUT_PATH = PATH + '/jpg002'\r\n",
        "# Ruta de check points\r\n",
        "CK_PATH = PATH + '/checkpints'\r\n",
        "\r\n",
        "# usando codigo de consola listando el directorio de entrada\r\n",
        "img_urls = !ls -1 \"{IN_PATH}\"\r\n",
        "\r\n",
        "# Entrenando con 500 imagenes\r\n",
        "n = 500\r\n",
        "train_n = round(n*0.80)\r\n",
        "# listado randomizado\r\n",
        "rand_urls = np.copy(img_urls)\r\n",
        "\r\n",
        "np.random.seed(23) #solo para el tutorial\r\n",
        "np.random.shuffle(rand_urls)\r\n",
        "\r\n",
        "# Particion train test}\r\n",
        "tr_urls = rand_urls[:train_n]\r\n",
        "ts_urls = rand_urls[train_n:n]\r\n",
        "\r\n",
        "print(len(img_urls), len(tr_urls), len(ts_urls))"
      ],
      "execution_count": 5,
      "outputs": [
        {
          "output_type": "stream",
          "text": [
            "8199 400 100\n"
          ],
          "name": "stdout"
        }
      ]
    },
    {
      "cell_type": "code",
      "metadata": {
        "id": "fu5_1FIKuCBp"
      },
      "source": [
        "IMG_WIDTH = 256\r\n",
        "IMG_HEIGHT = 256\r\n",
        "\r\n",
        "def resize(inimg, targimg, height, width)\r\n",
        "  inimg = tf.image.resize(inimg, [height, width])\r\n",
        "  targimg = tf.image.resize(targimg, [height, width])\r\n",
        "\r\n",
        "  return inimg, targimg\r\n",
        "\r\n"
      ],
      "execution_count": null,
      "outputs": []
    },
    {
      "cell_type": "markdown",
      "metadata": {
        "id": "JEHamonUeCK5"
      },
      "source": [
        "# New Section"
      ]
    }
  ]
}